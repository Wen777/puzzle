{
 "cells": [
  {
   "cell_type": "markdown",
   "metadata": {},
   "source": [
    "##Multiples of 3 and 5\n",
    "\n",
    "If we list all the natural numbers below 10 that are multiples of 3 or 5, we get 3, 5, 6 and 9. The sum of these multiples is 23\n",
    "\n",
    "Please find the sum of all the multiples of 3 or 5 below 1000."
   ]
  },
  {
   "cell_type": "code",
   "execution_count": 16,
   "metadata": {
    "collapsed": false
   },
   "outputs": [
    {
     "name": "stdout",
     "output_type": "stream",
     "text": [
      "233168\n"
     ]
    }
   ],
   "source": [
    "lists = []\n",
    "arg = 1000\n",
    "\n",
    "numOfLists3 = (arg - (arg % 3)) / 3\n",
    "numOfLists5 = (arg - (arg % 5)) / 5\n",
    "\n",
    "for i in range(1, int(numOfLists3)+1):\n",
    "    if i * 3 != arg:\n",
    "        lists.append(i * 3)\n",
    "\n",
    "for j in range(1, int(numOfLists5)+1):\n",
    "    if j * 5 != arg:\n",
    "        lists.append(j * 5)\n",
    "\n",
    "#print(list(set(lists)))\n",
    "        \n",
    "result = 0\n",
    "for item in list(set(lists)):\n",
    "    result += item\n",
    "print(result)\n",
    "    "
   ]
  },
  {
   "cell_type": "markdown",
   "metadata": {},
   "source": [
    "## Combination\n",
    "C(5,2) =  5!/(3!*2!)   \n",
    "but  it may overflow in some condition. so we need to change the way we compute combination\n",
    "there is another way to compute combination:\n",
    "\n",
    "C(n,r) = C\n",
    "( n-1, r ) + C(n-1, r-1)\n",
    "C(n,1) = n\n",
    "C(n,n) = 1\n",
    "please use the above equation to compute C(40,10) and C( 999, 33 ) "
   ]
  },
  {
   "cell_type": "code",
   "execution_count": 6,
   "metadata": {
    "collapsed": false,
    "scrolled": true
   },
   "outputs": [
    {
     "name": "stdout",
     "output_type": "stream",
     "text": [
      "847660528\n"
     ]
    }
   ],
   "source": [
    "catch = {}\n",
    "\n",
    "def conFun(num, r):\n",
    "    if catch.get(str(num)+ \"+\" +str(r)):\n",
    "        return catch[str(num)+ \"+\" +str(r)]\n",
    "    elif r == 1:\n",
    "        return num\n",
    "    elif num == r:\n",
    "        return 1\n",
    "    catch[str(num)+ \"+\" +str(r)] = conFun(num-1, r) + conFun(num-1, r-1)\n",
    "    return catch[str(num)+ \"+\" +str(r)]\n",
    "\n",
    "\n",
    "aa = 0\n",
    "aa = conFun(40,10)\n",
    "print(aa)\n",
    "\n",
    "# not work\n",
    "# bb = 0\n",
    "# bb = conFun(999,33)\n",
    "# print(bb)\n",
    "    "
   ]
  },
  {
   "cell_type": "markdown",
   "metadata": {},
   "source": [
    "## Integration"
   ]
  },
  {
   "cell_type": "code",
   "execution_count": 7,
   "metadata": {
    "collapsed": false
   },
   "outputs": [
    {
     "name": "stdout",
     "output_type": "stream",
     "text": [
      "3586.50999999999\n"
     ]
    }
   ],
   "source": [
    "def anonymous(x):\n",
    "    return x**2 + 1\n",
    "\n",
    "def integrate(fun, start, end):\n",
    "    step = 0.1\n",
    "    intercept = start\n",
    "    area = 0\n",
    "    while intercept < end:\n",
    "        intercept += step\n",
    "        ''' your work here '''\n",
    "        area += fun(intercept)\n",
    "    return area\n",
    "\n",
    "print(integrate(anonymous, 0, 10))"
   ]
  },
  {
   "cell_type": "markdown",
   "metadata": {},
   "source": [
    "##prime factor\n",
    "The prime factors of 13195 are 5, 7, 13 and 29.\n",
    "\n",
    "What is the largest prime factor of the number 600851475143 ?"
   ]
  },
  {
   "cell_type": "code",
   "execution_count": 15,
   "metadata": {
    "collapsed": false
   },
   "outputs": [],
   "source": [
    "num = 600851475143\n",
    "factor = []\n",
    "pFactor = []\n",
    "\n",
    "int(num**0.5)\n",
    "for i in range(int(num**0.5)):\n",
    "    if i+1 > 1:\n",
    "        factor.append(i + 1)\n",
    "        \n",
    "def ifPrime(req):\n",
    "    \"\"\"check prime\"\"\"\n",
    "# print(factor)"
   ]
  },
  {
   "cell_type": "code",
   "execution_count": null,
   "metadata": {
    "collapsed": true
   },
   "outputs": [],
   "source": []
  }
 ],
 "metadata": {
  "kernelspec": {
   "display_name": "Python 3",
   "language": "python",
   "name": "python3"
  },
  "language_info": {
   "codemirror_mode": {
    "name": "ipython",
    "version": 3
   },
   "file_extension": ".py",
   "mimetype": "text/x-python",
   "name": "python",
   "nbconvert_exporter": "python",
   "pygments_lexer": "ipython3",
   "version": "3.4.3"
  }
 },
 "nbformat": 4,
 "nbformat_minor": 0
}
